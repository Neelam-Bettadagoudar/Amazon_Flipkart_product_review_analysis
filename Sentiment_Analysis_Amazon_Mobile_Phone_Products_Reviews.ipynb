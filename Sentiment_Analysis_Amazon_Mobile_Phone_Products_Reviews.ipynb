{
  "cells": [
    {
      "cell_type": "markdown",
      "metadata": {
        "id": "ytQDcNCP9RFV"
      },
      "source": [
        "## Importing essential libraries:"
      ]
    },
    {
      "cell_type": "code",
      "execution_count": 7,
      "metadata": {
        "id": "bcNNXBtm9RFW"
      },
      "outputs": [],
      "source": [
        "import pandas as pd\n",
        "import numpy as np\n",
        "import matplotlib.pyplot as plt\n",
        "import seaborn as sns\n",
        "%matplotlib inline\n",
        "import glob\n",
        "import json\n",
        "import re\n",
        "from bs4 import BeautifulSoup \n",
        "\n",
        "from sklearn.model_selection import train_test_split, GridSearchCV\n",
        "from sklearn.feature_extraction.text import CountVectorizer, TfidfVectorizer\n",
        "from sklearn.naive_bayes import BernoulliNB, MultinomialNB\n",
        "from sklearn.linear_model import LogisticRegression\n",
        "from sklearn.ensemble import RandomForestClassifier\n",
        "from sklearn import metrics\n",
        "from sklearn.metrics import roc_auc_score, accuracy_score\n",
        "from sklearn.pipeline import Pipeline\n",
        "from wordcloud import WordCloud\n",
        "\n",
        "\n",
        "import nltk\n",
        "from nltk.corpus import stopwords \n",
        "from nltk.stem.porter import PorterStemmer\n",
        "from nltk.stem import SnowballStemmer, WordNetLemmatizer\n",
        "from nltk import sent_tokenize, word_tokenize, pos_tag\n",
        "\n",
        "import logging\n",
        "from gensim.models import word2vec\n",
        "from gensim.models import Word2Vec\n",
        "from gensim.models.keyedvectors import KeyedVectors\n",
        "from keras.layers.embeddings import Embedding"
      ]
    },
    {
      "cell_type": "markdown",
      "metadata": {
        "id": "szxF4RpP9RFY"
      },
      "source": [
        "## Data Preprocessing:"
      ]
    },
    {
      "cell_type": "code",
      "source": [
        "df = pd.read_csv('/content/Flipkart_Amazon Mobile Reviews.csv', index_col=0)"
      ],
      "metadata": {
        "id": "P1WPan2g9xAW"
      },
      "execution_count": 8,
      "outputs": []
    },
    {
      "cell_type": "code",
      "source": [
        "df.rename(columns={\"Review-Title\": \"comment\", \"rating\": \"stars\", \"Review-Body\": \"Model\", \"Product Name\": \"Brand\"}, inplace=True)\n",
        "df.head()"
      ],
      "metadata": {
        "colab": {
          "base_uri": "https://localhost:8080/",
          "height": 206
        },
        "id": "Xnpdj2tGKdtm",
        "outputId": "ba5f3f4b-5566-4fc2-c789-c2728637a10b"
      },
      "execution_count": 9,
      "outputs": [
        {
          "output_type": "execute_result",
          "data": {
            "text/plain": [
              "                             comment               stars  \\\n",
              "0                   Worst phone ever  1.0 out of 5 stars   \n",
              "1          Ok !!! Not up to the mark  2.0 out of 5 stars   \n",
              "2                       Awesome look  5.0 out of 5 stars   \n",
              "3  One plus losing is originality!!!  3.0 out of 5 stars   \n",
              "4                               Read  1.0 out of 5 stars   \n",
              "\n",
              "                                               Model  \\\n",
              "0                                       Hang problem   \n",
              "1  I'm writing this review after using 3days !!!B...   \n",
              "2  Camera is so good n very fast phone back look ...   \n",
              "3  The media could not be loaded.\\n              ...   \n",
              "4  I got my delivery on 23 feb when I unboxed the...   \n",
              "\n",
              "                                               Brand  \n",
              "0  OnePlus Nord CE 2 5G (Gray Mirror, 8GB RAM, 12...  \n",
              "1  OnePlus Nord CE 2 5G (Gray Mirror, 8GB RAM, 12...  \n",
              "2  OnePlus Nord CE 2 5G (Gray Mirror, 8GB RAM, 12...  \n",
              "3  OnePlus Nord CE 2 5G (Gray Mirror, 8GB RAM, 12...  \n",
              "4  OnePlus Nord CE 2 5G (Gray Mirror, 8GB RAM, 12...  "
            ],
            "text/html": [
              "\n",
              "  <div id=\"df-2f89a24a-7b82-46a6-bc1f-f64461574a3d\">\n",
              "    <div class=\"colab-df-container\">\n",
              "      <div>\n",
              "<style scoped>\n",
              "    .dataframe tbody tr th:only-of-type {\n",
              "        vertical-align: middle;\n",
              "    }\n",
              "\n",
              "    .dataframe tbody tr th {\n",
              "        vertical-align: top;\n",
              "    }\n",
              "\n",
              "    .dataframe thead th {\n",
              "        text-align: right;\n",
              "    }\n",
              "</style>\n",
              "<table border=\"1\" class=\"dataframe\">\n",
              "  <thead>\n",
              "    <tr style=\"text-align: right;\">\n",
              "      <th></th>\n",
              "      <th>comment</th>\n",
              "      <th>stars</th>\n",
              "      <th>Model</th>\n",
              "      <th>Brand</th>\n",
              "    </tr>\n",
              "  </thead>\n",
              "  <tbody>\n",
              "    <tr>\n",
              "      <th>0</th>\n",
              "      <td>Worst phone ever</td>\n",
              "      <td>1.0 out of 5 stars</td>\n",
              "      <td>Hang problem</td>\n",
              "      <td>OnePlus Nord CE 2 5G (Gray Mirror, 8GB RAM, 12...</td>\n",
              "    </tr>\n",
              "    <tr>\n",
              "      <th>1</th>\n",
              "      <td>Ok !!! Not up to the mark</td>\n",
              "      <td>2.0 out of 5 stars</td>\n",
              "      <td>I'm writing this review after using 3days !!!B...</td>\n",
              "      <td>OnePlus Nord CE 2 5G (Gray Mirror, 8GB RAM, 12...</td>\n",
              "    </tr>\n",
              "    <tr>\n",
              "      <th>2</th>\n",
              "      <td>Awesome look</td>\n",
              "      <td>5.0 out of 5 stars</td>\n",
              "      <td>Camera is so good n very fast phone back look ...</td>\n",
              "      <td>OnePlus Nord CE 2 5G (Gray Mirror, 8GB RAM, 12...</td>\n",
              "    </tr>\n",
              "    <tr>\n",
              "      <th>3</th>\n",
              "      <td>One plus losing is originality!!!</td>\n",
              "      <td>3.0 out of 5 stars</td>\n",
              "      <td>The media could not be loaded.\\n              ...</td>\n",
              "      <td>OnePlus Nord CE 2 5G (Gray Mirror, 8GB RAM, 12...</td>\n",
              "    </tr>\n",
              "    <tr>\n",
              "      <th>4</th>\n",
              "      <td>Read</td>\n",
              "      <td>1.0 out of 5 stars</td>\n",
              "      <td>I got my delivery on 23 feb when I unboxed the...</td>\n",
              "      <td>OnePlus Nord CE 2 5G (Gray Mirror, 8GB RAM, 12...</td>\n",
              "    </tr>\n",
              "  </tbody>\n",
              "</table>\n",
              "</div>\n",
              "      <button class=\"colab-df-convert\" onclick=\"convertToInteractive('df-2f89a24a-7b82-46a6-bc1f-f64461574a3d')\"\n",
              "              title=\"Convert this dataframe to an interactive table.\"\n",
              "              style=\"display:none;\">\n",
              "        \n",
              "  <svg xmlns=\"http://www.w3.org/2000/svg\" height=\"24px\"viewBox=\"0 0 24 24\"\n",
              "       width=\"24px\">\n",
              "    <path d=\"M0 0h24v24H0V0z\" fill=\"none\"/>\n",
              "    <path d=\"M18.56 5.44l.94 2.06.94-2.06 2.06-.94-2.06-.94-.94-2.06-.94 2.06-2.06.94zm-11 1L8.5 8.5l.94-2.06 2.06-.94-2.06-.94L8.5 2.5l-.94 2.06-2.06.94zm10 10l.94 2.06.94-2.06 2.06-.94-2.06-.94-.94-2.06-.94 2.06-2.06.94z\"/><path d=\"M17.41 7.96l-1.37-1.37c-.4-.4-.92-.59-1.43-.59-.52 0-1.04.2-1.43.59L10.3 9.45l-7.72 7.72c-.78.78-.78 2.05 0 2.83L4 21.41c.39.39.9.59 1.41.59.51 0 1.02-.2 1.41-.59l7.78-7.78 2.81-2.81c.8-.78.8-2.07 0-2.86zM5.41 20L4 18.59l7.72-7.72 1.47 1.35L5.41 20z\"/>\n",
              "  </svg>\n",
              "      </button>\n",
              "      \n",
              "  <style>\n",
              "    .colab-df-container {\n",
              "      display:flex;\n",
              "      flex-wrap:wrap;\n",
              "      gap: 12px;\n",
              "    }\n",
              "\n",
              "    .colab-df-convert {\n",
              "      background-color: #E8F0FE;\n",
              "      border: none;\n",
              "      border-radius: 50%;\n",
              "      cursor: pointer;\n",
              "      display: none;\n",
              "      fill: #1967D2;\n",
              "      height: 32px;\n",
              "      padding: 0 0 0 0;\n",
              "      width: 32px;\n",
              "    }\n",
              "\n",
              "    .colab-df-convert:hover {\n",
              "      background-color: #E2EBFA;\n",
              "      box-shadow: 0px 1px 2px rgba(60, 64, 67, 0.3), 0px 1px 3px 1px rgba(60, 64, 67, 0.15);\n",
              "      fill: #174EA6;\n",
              "    }\n",
              "\n",
              "    [theme=dark] .colab-df-convert {\n",
              "      background-color: #3B4455;\n",
              "      fill: #D2E3FC;\n",
              "    }\n",
              "\n",
              "    [theme=dark] .colab-df-convert:hover {\n",
              "      background-color: #434B5C;\n",
              "      box-shadow: 0px 1px 3px 1px rgba(0, 0, 0, 0.15);\n",
              "      filter: drop-shadow(0px 1px 2px rgba(0, 0, 0, 0.3));\n",
              "      fill: #FFFFFF;\n",
              "    }\n",
              "  </style>\n",
              "\n",
              "      <script>\n",
              "        const buttonEl =\n",
              "          document.querySelector('#df-2f89a24a-7b82-46a6-bc1f-f64461574a3d button.colab-df-convert');\n",
              "        buttonEl.style.display =\n",
              "          google.colab.kernel.accessAllowed ? 'block' : 'none';\n",
              "\n",
              "        async function convertToInteractive(key) {\n",
              "          const element = document.querySelector('#df-2f89a24a-7b82-46a6-bc1f-f64461574a3d');\n",
              "          const dataTable =\n",
              "            await google.colab.kernel.invokeFunction('convertToInteractive',\n",
              "                                                     [key], {});\n",
              "          if (!dataTable) return;\n",
              "\n",
              "          const docLinkHtml = 'Like what you see? Visit the ' +\n",
              "            '<a target=\"_blank\" href=https://colab.research.google.com/notebooks/data_table.ipynb>data table notebook</a>'\n",
              "            + ' to learn more about interactive tables.';\n",
              "          element.innerHTML = '';\n",
              "          dataTable['output_type'] = 'display_data';\n",
              "          await google.colab.output.renderOutput(dataTable, element);\n",
              "          const docLink = document.createElement('div');\n",
              "          docLink.innerHTML = docLinkHtml;\n",
              "          element.appendChild(docLink);\n",
              "        }\n",
              "      </script>\n",
              "    </div>\n",
              "  </div>\n",
              "  "
            ]
          },
          "metadata": {},
          "execution_count": 9
        }
      ]
    },
    {
      "cell_type": "markdown",
      "metadata": {
        "id": "j6V_HX9d9RFb"
      },
      "source": [
        "## Exploratory Data Analysis"
      ]
    },
    {
      "cell_type": "code",
      "execution_count": 10,
      "metadata": {
        "colab": {
          "base_uri": "https://localhost:8080/"
        },
        "id": "yruCEUEU9RFc",
        "outputId": "f1200006-c26b-45c1-c267-3fbf0efe9f45"
      },
      "outputs": [
        {
          "output_type": "execute_result",
          "data": {
            "text/plain": [
              "5.0 out of 5 stars    9399\n",
              "1.0 out of 5 stars    5231\n",
              "4.0 out of 5 stars    4886\n",
              "3.0 out of 5 stars    2703\n",
              "2.0 out of 5 stars    1558\n",
              "Name: stars, dtype: int64"
            ]
          },
          "metadata": {},
          "execution_count": 10
        }
      ],
      "source": [
        "df.stars.value_counts()"
      ]
    },
    {
      "cell_type": "code",
      "execution_count": 11,
      "metadata": {
        "colab": {
          "base_uri": "https://localhost:8080/"
        },
        "id": "boNJsYLZ9RFd",
        "outputId": "be768390-b52f-480d-9f23-2d586417c209"
      },
      "outputs": [
        {
          "output_type": "execute_result",
          "data": {
            "text/plain": [
              "5    9399\n",
              "1    5231\n",
              "4    4886\n",
              "3    2703\n",
              "2    1558\n",
              "Name: stars, dtype: int64"
            ]
          },
          "metadata": {},
          "execution_count": 11
        }
      ],
      "source": [
        "## Replacing the text in the column 'stars' to required ratings integer values.\n",
        "\n",
        "df[\"stars\"].replace({\"5.0 out of 5 stars\": 5,\n",
        "                     \"4.0 out of 5 stars\": 4,\n",
        "                     \"3.0 out of 5 stars\": 3,\n",
        "                     \"2.0 out of 5 stars\": 2,\n",
        "                     \"1.0 out of 5 stars\": 1}, inplace=True)\n",
        "\n",
        "df[\"stars\"].value_counts()"
      ]
    },
    {
      "cell_type": "code",
      "execution_count": 12,
      "metadata": {
        "colab": {
          "base_uri": "https://localhost:8080/"
        },
        "id": "m0bvhxcP9RFd",
        "outputId": "e0762840-2a9b-407f-c308-78d3aec2a16f"
      },
      "outputs": [
        {
          "output_type": "stream",
          "name": "stdout",
          "text": [
            "Summary statistics of numerical features : \n",
            "               stars\n",
            "count  23777.000000\n",
            "mean       3.490558\n",
            "std        1.578505\n",
            "min        1.000000\n",
            "25%        2.000000\n",
            "50%        4.000000\n",
            "75%        5.000000\n",
            "max        5.000000\n",
            "\n",
            "Total number of reviews:  23777\n",
            "\n",
            "Total number of brands:  8\n",
            "\n",
            "Total number of unique products:  18598\n",
            "\n",
            "Percentage of reviews with neutral sentiment : 11.37%\n",
            "\n",
            "Percentage of reviews with positive sentiment : 60.07%\n",
            "\n",
            "Percentage of reviews with negative sentiment : 28.55%\n"
          ]
        }
      ],
      "source": [
        "## Summarizing the data we have\n",
        "\n",
        "print(\"Summary statistics of numerical features : \\n\", df.describe())\n",
        "\n",
        "print(\"\\nTotal number of reviews: \",len(df))\n",
        "print(\"\\nTotal number of brands: \", len(list(set(df['Brand']))))\n",
        "print(\"\\nTotal number of unique products: \", len(list(set(df['Model']))))\n",
        "\n",
        "print(\"\\nPercentage of reviews with neutral sentiment : {:.2f}%\".format(df[df['stars']==3][\"comment\"].count()/len(df)*100))\n",
        "print(\"\\nPercentage of reviews with positive sentiment : {:.2f}%\".format(df[df['stars']>3][\"comment\"].count()/len(df)*100))\n",
        "print(\"\\nPercentage of reviews with negative sentiment : {:.2f}%\".format(df[df['stars']<3][\"comment\"].count()/len(df)*100))"
      ]
    },
    {
      "cell_type": "code",
      "execution_count": 13,
      "metadata": {
        "colab": {
          "base_uri": "https://localhost:8080/",
          "height": 527
        },
        "id": "Wruswhzx9RFe",
        "outputId": "d8474c67-7578-48fe-955f-e89119666708"
      },
      "outputs": [
        {
          "output_type": "execute_result",
          "data": {
            "text/plain": [
              "Text(0, 0.5, 'Count')"
            ]
          },
          "metadata": {},
          "execution_count": 13
        },
        {
          "output_type": "display_data",
          "data": {
            "text/plain": [
              "<Figure size 864x576 with 1 Axes>"
            ],
            "image/png": "[encoded data removed]"
          },
          "metadata": {
            "needs_background": "light"
          }
        }
      ],
      "source": [
        "# Plotting distribution of rating\n",
        "\n",
        "plt.figure(figsize=(12,8))\n",
        "df['stars'].value_counts().sort_index().plot(kind='bar')\n",
        "plt.title('Distribution of Rating')\n",
        "plt.xlabel('Rating')\n",
        "plt.ylabel('Count')"
      ]
    },
    {
      "cell_type": "code",
      "execution_count": 14,
      "metadata": {
        "colab": {
          "base_uri": "https://localhost:8080/",
          "height": 819
        },
        "id": "-NBzhQKl9RFe",
        "outputId": "f8b1e766-64da-4e0c-8aa9-e006abe65383"
      },
      "outputs": [
        {
          "output_type": "execute_result",
          "data": {
            "text/plain": [
              "Text(0.5, 1.0, 'Number of Reviews for different Brands')"
            ]
          },
          "metadata": {},
          "execution_count": 14
        },
        {
          "output_type": "display_data",
          "data": {
            "text/plain": [
              "<Figure size 864x576 with 1 Axes>"
            ],
            "image/png": "[encoded data removed]"
          },
          "metadata": {
            "needs_background": "light"
          }
        }
      ],
      "source": [
        "# Plotting  number of Reviews for different Brands\n",
        "\n",
        "brands = df[\"Brand\"].value_counts()\n",
        "plt.figure(figsize=(12,8))\n",
        "brands[:].plot(kind='bar')\n",
        "plt.title(\"Number of Reviews for different Brands\")"
      ]
    },
    {
      "cell_type": "code",
      "execution_count": 15,
      "metadata": {
        "colab": {
          "base_uri": "https://localhost:8080/",
          "height": 665
        },
        "id": "wQ8mkOuQ9RFf",
        "outputId": "d3c32b0c-b1d3-4ec9-c09e-cc27560827c9"
      },
      "outputs": [
        {
          "output_type": "execute_result",
          "data": {
            "text/plain": [
              "Text(0.5, 1.0, 'Number of Reviews for Top 10 Products')"
            ]
          },
          "metadata": {},
          "execution_count": 15
        },
        {
          "output_type": "display_data",
          "data": {
            "text/plain": [
              "<Figure size 864x576 with 1 Axes>"
            ],
            "image/png": "[encoded data removed]"
          },
          "metadata": {
            "needs_background": "light"
          }
        }
      ],
      "source": [
        "# Plotting number of reviews for all brands\n",
        "\n",
        "products = df[\"Model\"].value_counts()\n",
        "plt.figure(figsize=(12,8))\n",
        "products[:10].plot(kind='bar')\n",
        "plt.title(\"Number of Reviews for Top 10 Products\")"
      ]
    },
    {
      "cell_type": "code",
      "execution_count": 16,
      "metadata": {
        "colab": {
          "base_uri": "https://localhost:8080/",
          "height": 531
        },
        "id": "0wJ3u2Ie9RFf",
        "outputId": "74acb873-e050-4b5e-9dab-39872ae76d4b"
      },
      "outputs": [
        {
          "output_type": "execute_result",
          "data": {
            "text/plain": [
              "Text(0, 0.5, 'Count')"
            ]
          },
          "metadata": {},
          "execution_count": 16
        },
        {
          "output_type": "display_data",
          "data": {
            "text/plain": [
              "<Figure size 864x576 with 1 Axes>"
            ],
            "image/png": "[encoded data removed]"
          },
          "metadata": {
            "needs_background": "light"
          }
        }
      ],
      "source": [
        "# Plotting distribution of review length\n",
        "\n",
        "review_length = df[\"comment\"].dropna().map(lambda x: len(x))\n",
        "plt.figure(figsize=(12,8))\n",
        "review_length.loc[review_length < 1500].hist()\n",
        "plt.title(\"Distribution of Review Length\")\n",
        "plt.xlabel('Review length (Number of character)')\n",
        "plt.ylabel('Count')"
      ]
    },
    {
      "cell_type": "code",
      "execution_count": 17,
      "metadata": {
        "colab": {
          "base_uri": "https://localhost:8080/",
          "height": 316
        },
        "id": "fYzz0Jcs9RFf",
        "outputId": "026596a0-b2d9-49cc-ffb3-80b0fd901ef5"
      },
      "outputs": [
        {
          "output_type": "stream",
          "name": "stderr",
          "text": [
            "/usr/local/lib/python3.7/dist-packages/ipykernel_launcher.py:11: SettingWithCopyWarning: \n",
            "A value is trying to be set on a copy of a slice from a DataFrame.\n",
            "Try using .loc[row_indexer,col_indexer] = value instead\n",
            "\n",
            "See the caveats in the documentation: https://pandas.pydata.org/pandas-docs/stable/user_guide/indexing.html#returning-a-view-versus-a-copy\n",
            "  # This is added back by InteractiveShellApp.init_path()\n"
          ]
        },
        {
          "output_type": "execute_result",
          "data": {
            "text/plain": [
              "                                  comment  stars  \\\n",
              "0                        Worst phone ever      1   \n",
              "1               Ok !!! Not up to the mark      2   \n",
              "2                            Awesome look      5   \n",
              "4                                    Read      1   \n",
              "5  Fantastic but some bug fixes required!      4   \n",
              "\n",
              "                                               Model  \\\n",
              "0                                       Hang problem   \n",
              "1  I'm writing this review after using 3days !!!B...   \n",
              "2  Camera is so good n very fast phone back look ...   \n",
              "4  I got my delivery on 23 feb when I unboxed the...   \n",
              "5  The media could not be loaded.\\n              ...   \n",
              "\n",
              "                                               Brand  Sentiment  \n",
              "0  OnePlus Nord CE 2 5G (Gray Mirror, 8GB RAM, 12...          0  \n",
              "1  OnePlus Nord CE 2 5G (Gray Mirror, 8GB RAM, 12...          0  \n",
              "2  OnePlus Nord CE 2 5G (Gray Mirror, 8GB RAM, 12...          1  \n",
              "4  OnePlus Nord CE 2 5G (Gray Mirror, 8GB RAM, 12...          0  \n",
              "5  OnePlus Nord CE 2 5G (Gray Mirror, 8GB RAM, 12...          1  "
            ],
            "text/html": [
              "\n",
              "  <div id=\"df-f9111a06-810a-485e-bc57-65b650a15ef0\">\n",
              "    <div class=\"colab-df-container\">\n",
              "      <div>\n",
              "<style scoped>\n",
              "    .dataframe tbody tr th:only-of-type {\n",
              "        vertical-align: middle;\n",
              "    }\n",
              "\n",
              "    .dataframe tbody tr th {\n",
              "        vertical-align: top;\n",
              "    }\n",
              "\n",
              "    .dataframe thead th {\n",
              "        text-align: right;\n",
              "    }\n",
              "</style>\n",
              "<table border=\"1\" class=\"dataframe\">\n",
              "  <thead>\n",
              "    <tr style=\"text-align: right;\">\n",
              "      <th></th>\n",
              "      <th>comment</th>\n",
              "      <th>stars</th>\n",
              "      <th>Model</th>\n",
              "      <th>Brand</th>\n",
              "      <th>Sentiment</th>\n",
              "    </tr>\n",
              "  </thead>\n",
              "  <tbody>\n",
              "    <tr>\n",
              "      <th>0</th>\n",
              "      <td>Worst phone ever</td>\n",
              "      <td>1</td>\n",
              "      <td>Hang problem</td>\n",
              "      <td>OnePlus Nord CE 2 5G (Gray Mirror, 8GB RAM, 12...</td>\n",
              "      <td>0</td>\n",
              "    </tr>\n",
              "    <tr>\n",
              "      <th>1</th>\n",
              "      <td>Ok !!! Not up to the mark</td>\n",
              "      <td>2</td>\n",
              "      <td>I'm writing this review after using 3days !!!B...</td>\n",
              "      <td>OnePlus Nord CE 2 5G (Gray Mirror, 8GB RAM, 12...</td>\n",
              "      <td>0</td>\n",
              "    </tr>\n",
              "    <tr>\n",
              "      <th>2</th>\n",
              "      <td>Awesome look</td>\n",
              "      <td>5</td>\n",
              "      <td>Camera is so good n very fast phone back look ...</td>\n",
              "      <td>OnePlus Nord CE 2 5G (Gray Mirror, 8GB RAM, 12...</td>\n",
              "      <td>1</td>\n",
              "    </tr>\n",
              "    <tr>\n",
              "      <th>4</th>\n",
              "      <td>Read</td>\n",
              "      <td>1</td>\n",
              "      <td>I got my delivery on 23 feb when I unboxed the...</td>\n",
              "      <td>OnePlus Nord CE 2 5G (Gray Mirror, 8GB RAM, 12...</td>\n",
              "      <td>0</td>\n",
              "    </tr>\n",
              "    <tr>\n",
              "      <th>5</th>\n",
              "      <td>Fantastic but some bug fixes required!</td>\n",
              "      <td>4</td>\n",
              "      <td>The media could not be loaded.\\n              ...</td>\n",
              "      <td>OnePlus Nord CE 2 5G (Gray Mirror, 8GB RAM, 12...</td>\n",
              "      <td>1</td>\n",
              "    </tr>\n",
              "  </tbody>\n",
              "</table>\n",
              "</div>\n",
              "      <button class=\"colab-df-convert\" onclick=\"convertToInteractive('df-f9111a06-810a-485e-bc57-65b650a15ef0')\"\n",
              "              title=\"Convert this dataframe to an interactive table.\"\n",
              "              style=\"display:none;\">\n",
              "        \n",
              "  <svg xmlns=\"http://www.w3.org/2000/svg\" height=\"24px\"viewBox=\"0 0 24 24\"\n",
              "       width=\"24px\">\n",
              "    <path d=\"M0 0h24v24H0V0z\" fill=\"none\"/>\n",
              "    <path d=\"M18.56 5.44l.94 2.06.94-2.06 2.06-.94-2.06-.94-.94-2.06-.94 2.06-2.06.94zm-11 1L8.5 8.5l.94-2.06 2.06-.94-2.06-.94L8.5 2.5l-.94 2.06-2.06.94zm10 10l.94 2.06.94-2.06 2.06-.94-2.06-.94-.94-2.06-.94 2.06-2.06.94z\"/><path d=\"M17.41 7.96l-1.37-1.37c-.4-.4-.92-.59-1.43-.59-.52 0-1.04.2-1.43.59L10.3 9.45l-7.72 7.72c-.78.78-.78 2.05 0 2.83L4 21.41c.39.39.9.59 1.41.59.51 0 1.02-.2 1.41-.59l7.78-7.78 2.81-2.81c.8-.78.8-2.07 0-2.86zM5.41 20L4 18.59l7.72-7.72 1.47 1.35L5.41 20z\"/>\n",
              "  </svg>\n",
              "      </button>\n",
              "      \n",
              "  <style>\n",
              "    .colab-df-container {\n",
              "      display:flex;\n",
              "      flex-wrap:wrap;\n",
              "      gap: 12px;\n",
              "    }\n",
              "\n",
              "    .colab-df-convert {\n",
              "      background-color: #E8F0FE;\n",
              "      border: none;\n",
              "      border-radius: 50%;\n",
              "      cursor: pointer;\n",
              "      display: none;\n",
              "      fill: #1967D2;\n",
              "      height: 32px;\n",
              "      padding: 0 0 0 0;\n",
              "      width: 32px;\n",
              "    }\n",
              "\n",
              "    .colab-df-convert:hover {\n",
              "      background-color: #E2EBFA;\n",
              "      box-shadow: 0px 1px 2px rgba(60, 64, 67, 0.3), 0px 1px 3px 1px rgba(60, 64, 67, 0.15);\n",
              "      fill: #174EA6;\n",
              "    }\n",
              "\n",
              "    [theme=dark] .colab-df-convert {\n",
              "      background-color: #3B4455;\n",
              "      fill: #D2E3FC;\n",
              "    }\n",
              "\n",
              "    [theme=dark] .colab-df-convert:hover {\n",
              "      background-color: #434B5C;\n",
              "      box-shadow: 0px 1px 3px 1px rgba(0, 0, 0, 0.15);\n",
              "      filter: drop-shadow(0px 1px 2px rgba(0, 0, 0, 0.3));\n",
              "      fill: #FFFFFF;\n",
              "    }\n",
              "  </style>\n",
              "\n",
              "      <script>\n",
              "        const buttonEl =\n",
              "          document.querySelector('#df-f9111a06-810a-485e-bc57-65b650a15ef0 button.colab-df-convert');\n",
              "        buttonEl.style.display =\n",
              "          google.colab.kernel.accessAllowed ? 'block' : 'none';\n",
              "\n",
              "        async function convertToInteractive(key) {\n",
              "          const element = document.querySelector('#df-f9111a06-810a-485e-bc57-65b650a15ef0');\n",
              "          const dataTable =\n",
              "            await google.colab.kernel.invokeFunction('convertToInteractive',\n",
              "                                                     [key], {});\n",
              "          if (!dataTable) return;\n",
              "\n",
              "          const docLinkHtml = 'Like what you see? Visit the ' +\n",
              "            '<a target=\"_blank\" href=https://colab.research.google.com/notebooks/data_table.ipynb>data table notebook</a>'\n",
              "            + ' to learn more about interactive tables.';\n",
              "          element.innerHTML = '';\n",
              "          dataTable['output_type'] = 'display_data';\n",
              "          await google.colab.output.renderOutput(dataTable, element);\n",
              "          const docLink = document.createElement('div');\n",
              "          docLink.innerHTML = docLinkHtml;\n",
              "          element.appendChild(docLink);\n",
              "        }\n",
              "      </script>\n",
              "    </div>\n",
              "  </div>\n",
              "  "
            ]
          },
          "metadata": {},
          "execution_count": 17
        }
      ],
      "source": [
        "# Dropping missing values\n",
        "\n",
        "df.dropna(inplace=True)\n",
        "\n",
        "# Considering reviews with positive sentiment (rating = 4, 5) and negative sentiment (rating = 1, 2)\n",
        "# and dropping reviews with neutral sentiment (rating 3).\n",
        "\n",
        "df = df[df['stars'] != 3]\n",
        "\n",
        "# Encoding 4s and 5s as 1 (positive sentiment) and 1s and 2s as 0 (negative sentiment)\n",
        "df['Sentiment'] = np.where(df['stars'] > 3, 1, 0)\n",
        "df.head()"
      ]
    },
    {
      "cell_type": "code",
      "execution_count": 18,
      "metadata": {
        "colab": {
          "base_uri": "https://localhost:8080/"
        },
        "id": "A-Qpfr2N9RFf",
        "outputId": "fea62523-b862-4481-fee6-3b4eef8abdc3"
      },
      "outputs": [
        {
          "output_type": "stream",
          "name": "stdout",
          "text": [
            "Loading 14356 training examples and 6153 validation examples. \n",
            "\n"
          ]
        }
      ],
      "source": [
        "# Spliting data into training set and validation\n",
        "\n",
        "\n",
        "X_train, X_test, y_train, y_test = train_test_split(df['comment'], df['Sentiment'], test_size=0.3, random_state=0)\n",
        "\n",
        "print('Loading %d training examples and %d validation examples. \\n' %(X_train.shape[0],X_test.shape[0]))"
      ]
    },
    {
      "cell_type": "markdown",
      "metadata": {
        "id": "csUIbxbR9RFg"
      },
      "source": [
        "### Creating a Bag of Words representation and Text Preprocessing:\n",
        "\n",
        "To classify the reviews into positive and negative sentiment, We first need to find a word embedding to convert a text into a numerical representation. Second, we fit the numerical representations of text to machine learning algorithms or deep learning architectures.\n",
        "\n",
        "One common approach of word embedding is frequency based embedding such as Bag of Words (BoW) model. BoW model learns a vocubulary list from a given corpus and represents each document based on some counting methods of words. In this part, we will explore the model performance of using BoW with supervised learning algorithms. Here's how we're planning to dpo it.\n",
        "\n",
        "1. Preprocess raw reviews to cleaned reviews\n",
        "2. Create BoW using CountVectorizer / Tfidfvectorizer in sklearn\n",
        "3. Transform review text to numerical representations (feature vectors)\n",
        "4. Fit feature vectors to supervised learning algorithm (eg. Naive Bayes, Logistic regression, etc.)\n",
        "5. Improve the model performance by GridSearch"
      ]
    },
    {
      "cell_type": "code",
      "execution_count": 19,
      "metadata": {
        "id": "wzjVbW0r9RFg"
      },
      "outputs": [],
      "source": [
        "# Creating a function to do text preprocessing\n",
        "## 1. Remove html tags using BeautifulSoup\n",
        "## 2. Remove non-character such as digits and symbols\n",
        "## 3. Convert to lower case\n",
        "## 4. Remove stop words such as \"the\" and \"and\" if needed\n",
        "## 5. Convert to root words by stemming if needed\n",
        "\n",
        "def cleanText(raw_text, remove_stopwords=False, stemming=False, split_text=False):\n",
        "    \n",
        "    #removing html\n",
        "    text = BeautifulSoup(raw_text, 'lxml').get_text() \n",
        "    \n",
        "    # Removing non-character\n",
        "    letters_only = re.sub(\"[^a-zA-Z]\", \" \", text)\n",
        "    \n",
        "    # converting to lower case\n",
        "    words = letters_only.lower().split()  \n",
        "    \n",
        "    # Removing stopword\n",
        "    if remove_stopwords: \n",
        "        stops = set(stopwords.words(\"english\"))\n",
        "        words = [w for w in words if not w in stops]\n",
        "    \n",
        "    # Stemming\n",
        "    if stemming==True: \n",
        "        stemmer = SnowballStemmer('english') \n",
        "        words = [stemmer.stem(w) for w in words]\n",
        "    \n",
        "    # Spliting text    \n",
        "    if split_text==True:  \n",
        "        return (words)\n",
        "    \n",
        "    return( \" \".join(words))"
      ]
    },
    {
      "cell_type": "code",
      "execution_count": 20,
      "metadata": {
        "colab": {
          "base_uri": "https://localhost:8080/"
        },
        "id": "NlsFSqtw9RFg",
        "outputId": "f0b3bc02-9fe7-4bb8-ff31-74d181ba4455"
      },
      "outputs": [
        {
          "output_type": "stream",
          "name": "stderr",
          "text": [
            "/usr/local/lib/python3.7/dist-packages/bs4/__init__.py:273: UserWarning: \"b'.'\" looks like a filename, not markup. You should probably open this file and pass the filehandle into Beautiful Soup.\n",
            "  ' Beautiful Soup.' % markup)\n"
          ]
        },
        {
          "output_type": "stream",
          "name": "stdout",
          "text": [
            "Showing a cleaned review in the training set : \n",
            "\n",
            " we can buy this product\n"
          ]
        }
      ],
      "source": [
        "# Preprocessing text data in training set and validation set\n",
        "\n",
        "X_train_cleaned = []\n",
        "X_test_cleaned = []\n",
        "\n",
        "for d in X_train:\n",
        "    X_train_cleaned.append(cleanText(d))\n",
        "print('Showing a cleaned review in the training set : \\n\\n',  X_train_cleaned[1])\n",
        "    \n",
        "for d in X_test:\n",
        "    X_test_cleaned.append(cleanText(d))"
      ]
    },
    {
      "cell_type": "code",
      "execution_count": 21,
      "metadata": {
        "colab": {
          "base_uri": "https://localhost:8080/"
        },
        "id": "DGqHzCsD9RFh",
        "outputId": "3d302008-a614-4c3d-bc1f-1ebbc0bc6f8a"
      },
      "outputs": [
        {
          "output_type": "stream",
          "name": "stdout",
          "text": [
            "Number of features : 3655 \n",
            "\n",
            "Show some feature names : \n",
            " ['aa', 'ekdum', 'mobial', 'smoothness']\n"
          ]
        },
        {
          "output_type": "stream",
          "name": "stderr",
          "text": [
            "/usr/local/lib/python3.7/dist-packages/sklearn/utils/deprecation.py:87: FutureWarning: Function get_feature_names is deprecated; get_feature_names is deprecated in 1.0 and will be removed in 1.2. Please use get_feature_names_out instead.\n",
            "  warnings.warn(msg, category=FutureWarning)\n"
          ]
        },
        {
          "output_type": "execute_result",
          "data": {
            "text/plain": [
              "MultinomialNB()"
            ]
          },
          "metadata": {},
          "execution_count": 21
        }
      ],
      "source": [
        "# Fitting and transform the training data to a document-term matrix using CountVectorizer\n",
        "\n",
        "countVect = CountVectorizer() \n",
        "X_train_countVect = countVect.fit_transform(X_train_cleaned)\n",
        "print(\"Number of features : %d \\n\" %len(countVect.get_feature_names())) #6378 \n",
        "print(\"Show some feature names : \\n\", countVect.get_feature_names()[::1000])\n",
        "\n",
        "\n",
        "# Train MultinomialNB classifier\n",
        "\n",
        "mnb = MultinomialNB()\n",
        "mnb.fit(X_train_countVect, y_train)"
      ]
    },
    {
      "cell_type": "code",
      "execution_count": 22,
      "metadata": {
        "id": "jVKrL4CR9RFh"
      },
      "outputs": [],
      "source": [
        "# Defining a function check the Model Evalutaion Metrices\n",
        "\n",
        "def modelEvaluation(predictions):\n",
        "    \n",
        "    print (\"\\nAccuracy on validation set: {:.4f}\".format(accuracy_score(y_test, predictions)))\n",
        "    print(\"\\nAUC score : {:.4f}\".format(roc_auc_score(y_test, predictions)))\n",
        "    print(\"\\nClassification report : \\n\", metrics.classification_report(y_test, predictions))\n",
        "    print(\"\\nConfusion Matrix : \\n\", metrics.confusion_matrix(y_test, predictions))"
      ]
    },
    {
      "cell_type": "code",
      "execution_count": 23,
      "metadata": {
        "colab": {
          "base_uri": "https://localhost:8080/"
        },
        "id": "TzzDm8Bf9RFh",
        "outputId": "bbc29869-a093-44bf-f8ef-5c2bafeacfef"
      },
      "outputs": [
        {
          "output_type": "stream",
          "name": "stdout",
          "text": [
            "\n",
            "Accuracy on validation set: 0.8750\n",
            "\n",
            "AUC score : 0.8469\n",
            "\n",
            "Classification report : \n",
            "               precision    recall  f1-score   support\n",
            "\n",
            "           0       0.83      0.77      0.80      1994\n",
            "           1       0.89      0.93      0.91      4159\n",
            "\n",
            "    accuracy                           0.88      6153\n",
            "   macro avg       0.86      0.85      0.85      6153\n",
            "weighted avg       0.87      0.88      0.87      6153\n",
            "\n",
            "\n",
            "Confusion Matrix : \n",
            " [[1529  465]\n",
            " [ 304 3855]]\n"
          ]
        }
      ],
      "source": [
        "# Evaluating the model on validaton set\n",
        "\n",
        "predictions = mnb.predict(countVect.transform(X_test_cleaned))\n",
        "modelEvaluation(predictions)"
      ]
    },
    {
      "cell_type": "code",
      "execution_count": 24,
      "metadata": {
        "colab": {
          "base_uri": "https://localhost:8080/"
        },
        "id": "rouc34UC9RFh",
        "outputId": "12195dc9-0131-45c9-b783-ea5f7cd288e0"
      },
      "outputs": [
        {
          "output_type": "stream",
          "name": "stdout",
          "text": [
            "Number of features : 828 \n",
            "\n",
            "Show some feature names : \n",
            " ['000']\n"
          ]
        },
        {
          "output_type": "stream",
          "name": "stderr",
          "text": [
            "/usr/local/lib/python3.7/dist-packages/sklearn/utils/deprecation.py:87: FutureWarning: Function get_feature_names is deprecated; get_feature_names is deprecated in 1.0 and will be removed in 1.2. Please use get_feature_names_out instead.\n",
            "  warnings.warn(msg, category=FutureWarning)\n"
          ]
        },
        {
          "output_type": "execute_result",
          "data": {
            "text/plain": [
              "LogisticRegression()"
            ]
          },
          "metadata": {},
          "execution_count": 24
        }
      ],
      "source": [
        "# Fit and transform the training data to a document-term matrix using TfidfVectorizer \n",
        "\n",
        "\n",
        "tfidf = TfidfVectorizer(min_df=5) # Taking a minimum document frequency of 5\n",
        "X_train_tfidf = tfidf.fit_transform(X_train)\n",
        "print(\"Number of features : %d \\n\" %len(tfidf.get_feature_names()))\n",
        "print(\"Show some feature names : \\n\", tfidf.get_feature_names()[::1000])\n",
        "\n",
        "#  Instatiating and fitting Logistic Regression object\n",
        "\n",
        "lr = LogisticRegression()\n",
        "lr.fit(X_train_tfidf, y_train)"
      ]
    },
    {
      "cell_type": "code",
      "execution_count": 25,
      "metadata": {
        "colab": {
          "base_uri": "https://localhost:8080/"
        },
        "id": "MaYiYYFn9RFh",
        "outputId": "d231ead4-71ef-4ee9-c345-b5a9cb49f16c"
      },
      "outputs": [
        {
          "output_type": "stream",
          "name": "stderr",
          "text": [
            "/usr/local/lib/python3.7/dist-packages/sklearn/utils/deprecation.py:87: FutureWarning: Function get_feature_names is deprecated; get_feature_names is deprecated in 1.0 and will be removed in 1.2. Please use get_feature_names_out instead.\n",
            "  warnings.warn(msg, category=FutureWarning)\n"
          ]
        },
        {
          "output_type": "stream",
          "name": "stdout",
          "text": [
            "\n",
            "Top 10 features with smallest coefficients :\n",
            "['worst' 'not' 'don' 'waste' 'poor' 'bad' 'defective' 'pathetic' 'hang'\n",
            " 'bakwas']\n",
            "\n",
            "Top 10 features with largest coefficients : \n",
            "['best' 'nice' 'good' 'awesome' 'excellent' 'amazing' 'great' 'super'\n",
            " 'budget' 'superb']\n"
          ]
        }
      ],
      "source": [
        "# Looking at the top 10 features with smallest and the largest coefficients\n",
        "\n",
        "feature_names = np.array(tfidf.get_feature_names())\n",
        "sorted_coef_index = lr.coef_[0].argsort()\n",
        "print('\\nTop 10 features with smallest coefficients :\\n{}\\n'.format(feature_names[sorted_coef_index[:10]]))\n",
        "print('Top 10 features with largest coefficients : \\n{}'.format(feature_names[sorted_coef_index[:-11:-1]]))"
      ]
    },
    {
      "cell_type": "code",
      "execution_count": 26,
      "metadata": {
        "colab": {
          "base_uri": "https://localhost:8080/"
        },
        "id": "ZsgLUkz99RFi",
        "outputId": "9e988b14-6d90-476d-a68c-29dbd74f8255"
      },
      "outputs": [
        {
          "output_type": "stream",
          "name": "stdout",
          "text": [
            "\n",
            "Accuracy on validation set: 0.8901\n",
            "\n",
            "AUC score : 0.8613\n",
            "\n",
            "Classification report : \n",
            "               precision    recall  f1-score   support\n",
            "\n",
            "           0       0.87      0.78      0.82      1994\n",
            "           1       0.90      0.94      0.92      4159\n",
            "\n",
            "    accuracy                           0.89      6153\n",
            "   macro avg       0.88      0.86      0.87      6153\n",
            "weighted avg       0.89      0.89      0.89      6153\n",
            "\n",
            "\n",
            "Confusion Matrix : \n",
            " [[1554  440]\n",
            " [ 236 3923]]\n"
          ]
        }
      ],
      "source": [
        "# Evaluating on the validaton set\n",
        "predictions = lr.predict(tfidf.transform(X_test_cleaned))\n",
        "modelEvaluation(predictions)"
      ]
    },
    {
      "cell_type": "markdown",
      "metadata": {
        "id": "Sl8Tgskx9RFi"
      },
      "source": [
        "## GridSearch CV"
      ]
    },
    {
      "cell_type": "code",
      "execution_count": 27,
      "metadata": {
        "colab": {
          "base_uri": "https://localhost:8080/"
        },
        "id": "RuSYYQ4m9RFi",
        "outputId": "9cd6ad9d-7868-4b12-8aa3-4a80d93e8e2f"
      },
      "outputs": [
        {
          "output_type": "stream",
          "name": "stdout",
          "text": [
            "The best paramenter set is : \n",
            " {'lr__C': 10, 'tfidf__max_features': None, 'tfidf__min_df': 1, 'tfidf__ngram_range': (1, 2), 'tfidf__stop_words': None}\n",
            "\n",
            "Accuracy on validation set: 0.8957\n",
            "\n",
            "AUC score : 0.8719\n",
            "\n",
            "Classification report : \n",
            "               precision    recall  f1-score   support\n",
            "\n",
            "           0       0.86      0.80      0.83      1994\n",
            "           1       0.91      0.94      0.92      4159\n",
            "\n",
            "    accuracy                           0.90      6153\n",
            "   macro avg       0.89      0.87      0.88      6153\n",
            "weighted avg       0.89      0.90      0.89      6153\n",
            "\n",
            "\n",
            "Confusion Matrix : \n",
            " [[1604  390]\n",
            " [ 252 3907]]\n"
          ]
        },
        {
          "output_type": "stream",
          "name": "stderr",
          "text": [
            "/usr/local/lib/python3.7/dist-packages/sklearn/linear_model/_logistic.py:818: ConvergenceWarning: lbfgs failed to converge (status=1):\n",
            "STOP: TOTAL NO. of ITERATIONS REACHED LIMIT.\n",
            "\n",
            "Increase the number of iterations (max_iter) or scale the data as shown in:\n",
            "    https://scikit-learn.org/stable/modules/preprocessing.html\n",
            "Please also refer to the documentation for alternative solver options:\n",
            "    https://scikit-learn.org/stable/modules/linear_model.html#logistic-regression\n",
            "  extra_warning_msg=_LOGISTIC_SOLVER_CONVERGENCE_MSG,\n"
          ]
        }
      ],
      "source": [
        "estimators = [(\"tfidf\", TfidfVectorizer()), (\"lr\", LogisticRegression())]\n",
        "model = Pipeline(estimators)\n",
        "\n",
        "\n",
        "# Grid search\n",
        "params = {\"lr__C\":[0.1, 1, 10], #regularization param of logistic regression\n",
        "          \"tfidf__min_df\": [1, 3], #min count of words \n",
        "          \"tfidf__max_features\": [1000, None], #max features\n",
        "          \"tfidf__ngram_range\": [(1,1), (1,2)], #1-grams or 2-grams\n",
        "          \"tfidf__stop_words\": [None, \"english\"]} #use stopwords or don't\n",
        "\n",
        "grid = GridSearchCV(estimator=model, param_grid=params, scoring=\"accuracy\", n_jobs=-1)\n",
        "grid.fit(X_train_cleaned, y_train)\n",
        "print(\"The best paramenter set is : \\n\", grid.best_params_)\n",
        "\n",
        "\n",
        "# Evaluate on the validaton set\n",
        "predictions = grid.predict(X_test_cleaned)\n",
        "modelEvaluation(predictions)"
      ]
    },
    {
      "cell_type": "code",
      "execution_count": 28,
      "metadata": {
        "colab": {
          "base_uri": "https://localhost:8080/"
        },
        "id": "Df5FNHtF9RFi",
        "outputId": "6143deb7-cf01-4131-cea7-5ccbe689d4a5"
      },
      "outputs": [
        {
          "output_type": "execute_result",
          "data": {
            "text/plain": [
              "0                   value for money\n",
              "1           we can buy this product\n",
              "2    nice phone in reasonable price\n",
              "3                              mast\n",
              "4             very good oneplus phn\n",
              "dtype: object"
            ]
          },
          "metadata": {},
          "execution_count": 28
        }
      ],
      "source": [
        "df_cleaned_text= pd.Series(X_train_cleaned+X_test_cleaned)\n",
        "df_cleaned_text.head()"
      ]
    },
    {
      "cell_type": "code",
      "execution_count": 29,
      "metadata": {
        "colab": {
          "base_uri": "https://localhost:8080/",
          "height": 316
        },
        "id": "N9DhVrOd9RFi",
        "outputId": "edd20aba-25b7-46dd-9236-0df8ebff9073"
      },
      "outputs": [
        {
          "output_type": "stream",
          "name": "stderr",
          "text": [
            "/usr/local/lib/python3.7/dist-packages/ipykernel_launcher.py:3: SettingWithCopyWarning: \n",
            "A value is trying to be set on a copy of a slice from a DataFrame.\n",
            "Try using .loc[row_indexer,col_indexer] = value instead\n",
            "\n",
            "See the caveats in the documentation: https://pandas.pydata.org/pandas-docs/stable/user_guide/indexing.html#returning-a-view-versus-a-copy\n",
            "  This is separate from the ipykernel package so we can avoid doing imports until\n"
          ]
        },
        {
          "output_type": "execute_result",
          "data": {
            "text/plain": [
              "                                               Model  \\\n",
              "0                                       Hang problem   \n",
              "1  I'm writing this review after using 3days !!!B...   \n",
              "2  Camera is so good n very fast phone back look ...   \n",
              "4  I got my delivery on 23 feb when I unboxed the...   \n",
              "5  The media could not be loaded.\\n              ...   \n",
              "\n",
              "                   Cleaned Review  Sentiment  \n",
              "0                 value for money          0  \n",
              "1         we can buy this product          0  \n",
              "2  nice phone in reasonable price          1  \n",
              "4           very good oneplus phn          0  \n",
              "5               gst not providing          1  "
            ],
            "text/html": [
              "\n",
              "  <div id=\"df-0136035b-4879-43ca-b57b-819b1ef46a12\">\n",
              "    <div class=\"colab-df-container\">\n",
              "      <div>\n",
              "<style scoped>\n",
              "    .dataframe tbody tr th:only-of-type {\n",
              "        vertical-align: middle;\n",
              "    }\n",
              "\n",
              "    .dataframe tbody tr th {\n",
              "        vertical-align: top;\n",
              "    }\n",
              "\n",
              "    .dataframe thead th {\n",
              "        text-align: right;\n",
              "    }\n",
              "</style>\n",
              "<table border=\"1\" class=\"dataframe\">\n",
              "  <thead>\n",
              "    <tr style=\"text-align: right;\">\n",
              "      <th></th>\n",
              "      <th>Model</th>\n",
              "      <th>Cleaned Review</th>\n",
              "      <th>Sentiment</th>\n",
              "    </tr>\n",
              "  </thead>\n",
              "  <tbody>\n",
              "    <tr>\n",
              "      <th>0</th>\n",
              "      <td>Hang problem</td>\n",
              "      <td>value for money</td>\n",
              "      <td>0</td>\n",
              "    </tr>\n",
              "    <tr>\n",
              "      <th>1</th>\n",
              "      <td>I'm writing this review after using 3days !!!B...</td>\n",
              "      <td>we can buy this product</td>\n",
              "      <td>0</td>\n",
              "    </tr>\n",
              "    <tr>\n",
              "      <th>2</th>\n",
              "      <td>Camera is so good n very fast phone back look ...</td>\n",
              "      <td>nice phone in reasonable price</td>\n",
              "      <td>1</td>\n",
              "    </tr>\n",
              "    <tr>\n",
              "      <th>4</th>\n",
              "      <td>I got my delivery on 23 feb when I unboxed the...</td>\n",
              "      <td>very good oneplus phn</td>\n",
              "      <td>0</td>\n",
              "    </tr>\n",
              "    <tr>\n",
              "      <th>5</th>\n",
              "      <td>The media could not be loaded.\\n              ...</td>\n",
              "      <td>gst not providing</td>\n",
              "      <td>1</td>\n",
              "    </tr>\n",
              "  </tbody>\n",
              "</table>\n",
              "</div>\n",
              "      <button class=\"colab-df-convert\" onclick=\"convertToInteractive('df-0136035b-4879-43ca-b57b-819b1ef46a12')\"\n",
              "              title=\"Convert this dataframe to an interactive table.\"\n",
              "              style=\"display:none;\">\n",
              "        \n",
              "  <svg xmlns=\"http://www.w3.org/2000/svg\" height=\"24px\"viewBox=\"0 0 24 24\"\n",
              "       width=\"24px\">\n",
              "    <path d=\"M0 0h24v24H0V0z\" fill=\"none\"/>\n",
              "    <path d=\"M18.56 5.44l.94 2.06.94-2.06 2.06-.94-2.06-.94-.94-2.06-.94 2.06-2.06.94zm-11 1L8.5 8.5l.94-2.06 2.06-.94-2.06-.94L8.5 2.5l-.94 2.06-2.06.94zm10 10l.94 2.06.94-2.06 2.06-.94-2.06-.94-.94-2.06-.94 2.06-2.06.94z\"/><path d=\"M17.41 7.96l-1.37-1.37c-.4-.4-.92-.59-1.43-.59-.52 0-1.04.2-1.43.59L10.3 9.45l-7.72 7.72c-.78.78-.78 2.05 0 2.83L4 21.41c.39.39.9.59 1.41.59.51 0 1.02-.2 1.41-.59l7.78-7.78 2.81-2.81c.8-.78.8-2.07 0-2.86zM5.41 20L4 18.59l7.72-7.72 1.47 1.35L5.41 20z\"/>\n",
              "  </svg>\n",
              "      </button>\n",
              "      \n",
              "  <style>\n",
              "    .colab-df-container {\n",
              "      display:flex;\n",
              "      flex-wrap:wrap;\n",
              "      gap: 12px;\n",
              "    }\n",
              "\n",
              "    .colab-df-convert {\n",
              "      background-color: #E8F0FE;\n",
              "      border: none;\n",
              "      border-radius: 50%;\n",
              "      cursor: pointer;\n",
              "      display: none;\n",
              "      fill: #1967D2;\n",
              "      height: 32px;\n",
              "      padding: 0 0 0 0;\n",
              "      width: 32px;\n",
              "    }\n",
              "\n",
              "    .colab-df-convert:hover {\n",
              "      background-color: #E2EBFA;\n",
              "      box-shadow: 0px 1px 2px rgba(60, 64, 67, 0.3), 0px 1px 3px 1px rgba(60, 64, 67, 0.15);\n",
              "      fill: #174EA6;\n",
              "    }\n",
              "\n",
              "    [theme=dark] .colab-df-convert {\n",
              "      background-color: #3B4455;\n",
              "      fill: #D2E3FC;\n",
              "    }\n",
              "\n",
              "    [theme=dark] .colab-df-convert:hover {\n",
              "      background-color: #434B5C;\n",
              "      box-shadow: 0px 1px 3px 1px rgba(0, 0, 0, 0.15);\n",
              "      filter: drop-shadow(0px 1px 2px rgba(0, 0, 0, 0.3));\n",
              "      fill: #FFFFFF;\n",
              "    }\n",
              "  </style>\n",
              "\n",
              "      <script>\n",
              "        const buttonEl =\n",
              "          document.querySelector('#df-0136035b-4879-43ca-b57b-819b1ef46a12 button.colab-df-convert');\n",
              "        buttonEl.style.display =\n",
              "          google.colab.kernel.accessAllowed ? 'block' : 'none';\n",
              "\n",
              "        async function convertToInteractive(key) {\n",
              "          const element = document.querySelector('#df-0136035b-4879-43ca-b57b-819b1ef46a12');\n",
              "          const dataTable =\n",
              "            await google.colab.kernel.invokeFunction('convertToInteractive',\n",
              "                                                     [key], {});\n",
              "          if (!dataTable) return;\n",
              "\n",
              "          const docLinkHtml = 'Like what you see? Visit the ' +\n",
              "            '<a target=\"_blank\" href=https://colab.research.google.com/notebooks/data_table.ipynb>data table notebook</a>'\n",
              "            + ' to learn more about interactive tables.';\n",
              "          element.innerHTML = '';\n",
              "          dataTable['output_type'] = 'display_data';\n",
              "          await google.colab.output.renderOutput(dataTable, element);\n",
              "          const docLink = document.createElement('div');\n",
              "          docLink.innerHTML = docLinkHtml;\n",
              "          element.appendChild(docLink);\n",
              "        }\n",
              "      </script>\n",
              "    </div>\n",
              "  </div>\n",
              "  "
            ]
          },
          "metadata": {},
          "execution_count": 29
        }
      ],
      "source": [
        "\n",
        "df_predicted= df[['Model', 'Sentiment']]\n",
        "df_predicted['Cleaned Review']= df_cleaned_text\n",
        "df_predicted= df_predicted[['Model', 'Cleaned Review', 'Sentiment']]\n",
        "df_predicted.head()"
      ]
    },
    {
      "cell_type": "code",
      "source": [
        ""
      ],
      "metadata": {
        "id": "22OcgMuaZIvs"
      },
      "execution_count": 29,
      "outputs": []
    }
  ],
  "metadata": {
    "kernelspec": {
      "display_name": "Python 3",
      "language": "python",
      "name": "python3"
    },
    "language_info": {
      "codemirror_mode": {
        "name": "ipython",
        "version": 3
      },
      "file_extension": ".py",
      "mimetype": "text/x-python",
      "name": "python",
      "nbconvert_exporter": "python",
      "pygments_lexer": "ipython3",
      "version": "3.7.3"
    },
    "colab": {
      "name": "Sentiment Analysis- Amazon Mobile Phone Products Reviews.ipynb",
      "provenance": []
    }
  },
  "nbformat": 4,
  "nbformat_minor": 0
}